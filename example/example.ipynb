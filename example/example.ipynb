{
 "cells": [
  {
   "cell_type": "code",
   "execution_count": null,
   "metadata": {
    "vscode": {
     "languageId": "plaintext"
    }
   },
   "outputs": [],
   "source": [
    "import os\n",
    "import sys\n",
    "import pandas as pd\n",
    "import numpy as np\n",
    "\n",
    "from BCR_V_BERT import BCR_V_BERT_Runner\n",
    "from PubBCRPredictor import PubBCRPredictor_Runner, MLP"
   ]
  },
  {
   "cell_type": "markdown",
   "metadata": {},
   "source": [
    "## PubBCRPredictor cdrh model"
   ]
  },
  {
   "cell_type": "code",
   "execution_count": null,
   "metadata": {
    "vscode": {
     "languageId": "plaintext"
    }
   },
   "outputs": [],
   "source": [
    "BCR_V_BERT = BCR_V_BERT_Runner(model='cdrh')\n",
    "\n",
    "data = pd.read_csv('data/public_cdrh.csv')\n",
    "sequence = data['cdr'].values\n",
    "vgenes = data['vgene'].values\n",
    "feature = BCR_V_BERT.embed(sequence,vgenes)\n",
    "\n",
    "public_runner = PubBCRPredictor_Runner(model='cdrh')\n",
    "prob = public_runner.predict(feature)\n",
    "public_runner.plot_metric(data['label'].values,prob.numpy())\n",
    "\n",
    "cdrh1_seq = 'GYTFTGYW'\n",
    "cdrh2_seq = 'ILPGSGST'\n",
    "cdrh3_seq = 'ARDDYDGAWFAY'\n",
    "vgene = 'IGHV1-9'\n",
    "\n",
    "feature = BCR_V_BERT.embed([cdrh1_seq+'|'+cdrh2_seq+'|'+cdrh3_seq],[vgene])\n",
    "prob = public_runner.predict(feature)\n"
   ]
  },
  {
   "cell_type": "markdown",
   "metadata": {},
   "source": [
    "## PubBCRPredictor cdrh3 model"
   ]
  },
  {
   "cell_type": "code",
   "execution_count": null,
   "metadata": {
    "vscode": {
     "languageId": "plaintext"
    }
   },
   "outputs": [],
   "source": [
    "BCR_V_BERT = BCR_V_BERT_Runner(model='cdrh3')\n",
    "\n",
    "data = pd.read_csv('data/public_cdrh3.csv')\n",
    "sequence = data['cdr3'].values\n",
    "vgenes = data['vgene'].values\n",
    "feature = BCR_V_BERT.embed(sequence,vgenes)\n",
    "\n",
    "public_runner = PubBCRPredictor_Runner(model='cdrh3')\n",
    "prob = public_runner.predict(feature)\n",
    "public_runner.plot_metric(data['label'].values,prob.numpy())\n",
    "\n",
    "BCR_V_BERT = BCR_V_BERT_Runner(model='cdrh3')\n",
    "public_runner = PubBCRPredictor_Runner(model='cdrh3')\n",
    "\n",
    "cdrh1_seq = 'GYTFTGYW'\n",
    "cdrh2_seq = 'ILPGSGST'\n",
    "cdrh3_seq = 'ARDDYDGAWFAY'\n",
    "vgene = 'IGHV1-9'\n",
    "\n",
    "feature = BCR_V_BERT.embed([cdrh3_seq],[vgene])\n",
    "prob = public_runner.predict(feature)"
   ]
  },
  {
   "cell_type": "markdown",
   "metadata": {},
   "source": [
    "## PubBCRPredictor cdrl model"
   ]
  },
  {
   "cell_type": "code",
   "execution_count": null,
   "metadata": {
    "vscode": {
     "languageId": "plaintext"
    }
   },
   "outputs": [],
   "source": [
    "BCR_V_BERT = BCR_V_BERT_Runner(model='cdrl')\n",
    "\n",
    "data = pd.read_csv('data/public_cdrl.csv')\n",
    "sequence = data['cdrs'].values\n",
    "vgenes = data['vgenes'].values\n",
    "feature = BCR_V_BERT.embed(sequence,vgenes)\n",
    "\n",
    "public_runner = PubBCRPredictor_Runner(model='cdrl')\n",
    "prob = public_runner.predict(feature)\n",
    "public_runner.plot_metric(data['label'].values,prob.numpy().flatten())"
   ]
  },
  {
   "cell_type": "markdown",
   "metadata": {},
   "source": [
    "## PubBCRPredictor cdrl3 model"
   ]
  },
  {
   "cell_type": "code",
   "execution_count": null,
   "metadata": {
    "vscode": {
     "languageId": "plaintext"
    }
   },
   "outputs": [],
   "source": [
    "BCR_V_BERT = BCR_V_BERT_Runner(model='cdrl3')\n",
    "\n",
    "data = pd.read_csv('data/public_cdrl3.csv')\n",
    "sequence = data['cdr3'].values\n",
    "vgenes = data['vgene'].values\n",
    "feature = BCR_V_BERT.embed(sequence,vgenes)\n",
    "\n",
    "public_runner = PubBCRPredictor_Runner(model='cdrl3')\n",
    "prob = public_runner.predict(feature)\n",
    "public_runner.plot_metric(data['label'].values,prob.numpy().flatten())"
   ]
  }
 ],
 "metadata": {
  "language_info": {
   "name": "python"
  }
 },
 "nbformat": 4,
 "nbformat_minor": 2
}
