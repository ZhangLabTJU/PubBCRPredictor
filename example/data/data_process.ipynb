{
 "cells": [
  {
   "cell_type": "code",
   "execution_count": 5,
   "metadata": {},
   "outputs": [
    {
     "data": {
      "text/html": [
       "<div>\n",
       "<style scoped>\n",
       "    .dataframe tbody tr th:only-of-type {\n",
       "        vertical-align: middle;\n",
       "    }\n",
       "\n",
       "    .dataframe tbody tr th {\n",
       "        vertical-align: top;\n",
       "    }\n",
       "\n",
       "    .dataframe thead th {\n",
       "        text-align: right;\n",
       "    }\n",
       "</style>\n",
       "<table border=\"1\" class=\"dataframe\">\n",
       "  <thead>\n",
       "    <tr style=\"text-align: right;\">\n",
       "      <th></th>\n",
       "      <th>cdrs</th>\n",
       "      <th>vgenes</th>\n",
       "      <th>label</th>\n",
       "    </tr>\n",
       "  </thead>\n",
       "  <tbody>\n",
       "    <tr>\n",
       "      <th>1153</th>\n",
       "      <td>SSNIGSNY|RNN|AAWDDSLSGS</td>\n",
       "      <td>IGLV1-47</td>\n",
       "      <td>7</td>\n",
       "    </tr>\n",
       "    <tr>\n",
       "      <th>5114</th>\n",
       "      <td>NSNVGSHA|KNN|ATWDYSVNGPV</td>\n",
       "      <td>IGLV1-44</td>\n",
       "      <td>4</td>\n",
       "    </tr>\n",
       "    <tr>\n",
       "      <th>5655</th>\n",
       "      <td>SSDVGGYNY|EVN|TSYAGSSTYV</td>\n",
       "      <td>IGLV2-8</td>\n",
       "      <td>3</td>\n",
       "    </tr>\n",
       "    <tr>\n",
       "      <th>1323</th>\n",
       "      <td>SSNIGSNT|SNN|AAWDDSLNGDVV</td>\n",
       "      <td>IGLV1-44</td>\n",
       "      <td>26</td>\n",
       "    </tr>\n",
       "    <tr>\n",
       "      <th>4956</th>\n",
       "      <td>NIGSTS|DDS|RVWVRSSDRPV</td>\n",
       "      <td>IGLV3-21</td>\n",
       "      <td>4</td>\n",
       "    </tr>\n",
       "  </tbody>\n",
       "</table>\n",
       "</div>"
      ],
      "text/plain": [
       "                           cdrs    vgenes  label\n",
       "1153    SSNIGSNY|RNN|AAWDDSLSGS  IGLV1-47      7\n",
       "5114   NSNVGSHA|KNN|ATWDYSVNGPV  IGLV1-44      4\n",
       "5655   SSDVGGYNY|EVN|TSYAGSSTYV   IGLV2-8      3\n",
       "1323  SSNIGSNT|SNN|AAWDDSLNGDVV  IGLV1-44     26\n",
       "4956     NIGSTS|DDS|RVWVRSSDRPV  IGLV3-21      4"
      ]
     },
     "execution_count": 5,
     "metadata": {},
     "output_type": "execute_result"
    }
   ],
   "source": [
    "import pandas as pd\n",
    "import numpy as np\n",
    "\n",
    "np.random.seed(42) \n",
    "\n",
    "data =  pd.read_csv('public_light_antibody.csv') # public_cdrh3 public_cdr3l\n",
    "data=data.sample(100)\n",
    "data.to_csv('public_cdrl.csv',index=False)\n",
    "data.head()"
   ]
  },
  {
   "cell_type": "code",
   "execution_count": 1,
   "metadata": {},
   "outputs": [
    {
     "name": "stdout",
     "output_type": "stream",
     "text": [
      "824476\n",
      "           cdr3     vgene  count  label\n",
      "0     ARGHYGMDV   IGHV3-7    280      1\n",
      "1  ARIGYSSSSFDY   IGHV3-7    255      1\n",
      "2      ARSDWFDP  IGHV3-74    229      1\n",
      "3     ARGHYGLDV  IGHV3-11    205      1\n",
      "4     ARGGWSLDY  IGHV4-59    199      1\n"
     ]
    },
    {
     "name": "stderr",
     "output_type": "stream",
     "text": [
      "/home/user/tmp/ipykernel_28864/763140855.py:6: FutureWarning: ChainedAssignmentError: behaviour will change in pandas 3.0!\n",
      "You are setting values through chained assignment. Currently this works in certain cases, but when using Copy-on-Write (which will become the default behaviour in pandas 3.0) this will never work to update the original DataFrame or Series, because the intermediate object on which we are setting values will behave as a copy.\n",
      "A typical example is when you are setting values in a column of a DataFrame, like:\n",
      "\n",
      "df[\"col\"][row_indexer] = value\n",
      "\n",
      "Use `df.loc[row_indexer, \"col\"] = values` instead, to perform the assignment in a single step and ensure this keeps updating the original `df`.\n",
      "\n",
      "See the caveats in the documentation: https://pandas.pydata.org/pandas-docs/stable/user_guide/indexing.html#returning-a-view-versus-a-copy\n",
      "\n",
      "  data['label'][data['count']!=1] = 1\n",
      "/home/user/tmp/ipykernel_28864/763140855.py:6: SettingWithCopyWarning: \n",
      "A value is trying to be set on a copy of a slice from a DataFrame\n",
      "\n",
      "See the caveats in the documentation: https://pandas.pydata.org/pandas-docs/stable/user_guide/indexing.html#returning-a-view-versus-a-copy\n",
      "  data['label'][data['count']!=1] = 1\n"
     ]
    }
   ],
   "source": [
    "import pandas as pd\n",
    "import numpy as np\n",
    "\n",
    "data =  pd.read_csv('p10_n1_h_df.csv')\n",
    "data['label'] = 0\n",
    "data['label'][data['count']!=1] = 1\n",
    "print(len(data))\n",
    "print(data.head())"
   ]
  },
  {
   "cell_type": "code",
   "execution_count": 2,
   "metadata": {},
   "outputs": [
    {
     "name": "stdout",
     "output_type": "stream",
     "text": [
      "412238\n",
      "412238\n",
      "82446\n",
      "82450\n",
      "659580\n",
      "824476\n"
     ]
    }
   ],
   "source": [
    "pos_data = data[data['count']!=1]\n",
    "print(len(pos_data))\n",
    "neg_data = data[data['count']==1]\n",
    "print(len(neg_data))\n",
    "\n",
    "np.random.seed(42) \n",
    "shuffled_indices = np.random.permutation(len(pos_data))\n",
    "\n",
    "train_size = int(0.8 * len(pos_data))\n",
    "val_size = int(0.1 * len(pos_data))\n",
    "test_size = len(pos_data) - train_size - val_size\n",
    "\n",
    "train_indices = shuffled_indices[:train_size]\n",
    "val_indices = shuffled_indices[train_size:train_size + val_size]\n",
    "test_indices = shuffled_indices[train_size + val_size:]\n",
    "\n",
    "train_pos = pos_data.iloc[train_indices].reset_index(drop=True)\n",
    "val_pos = pos_data.iloc[val_indices].reset_index(drop=True)\n",
    "test_pos = pos_data.iloc[test_indices].reset_index(drop=True)\n",
    "\n",
    "def sample_neg(pos,neg,n):\n",
    "    vgene_count = pos['vgene'].value_counts()\n",
    "    match_df = []\n",
    "    for vgene,count in vgene_count.items():\n",
    "        match_data = neg[neg['vgene']==vgene]\n",
    "        match_df.append(match_data.sample(n*count, random_state=42))\n",
    "    neg_match = pd.concat(match_df)\n",
    "    sampled_indices = neg_match.index\n",
    "    neg_drop = neg.drop(sampled_indices)\n",
    "    neg_match = neg_match.reset_index(drop=True)\n",
    "    pos_neg = pd.concat([pos,neg_match], ignore_index=True)\n",
    "    return neg_match,pos_neg,neg_drop\n",
    "\n",
    "val_neg_match,val_pos_neg,val_neg_drop = sample_neg(val_pos,neg_data,1)\n",
    "test_neg_match,test_pos_neg,test_neg_drop = sample_neg(test_pos,val_neg_drop,1)\n",
    "train_pos_neg = pd.concat([train_pos,test_neg_drop], ignore_index=True)\n",
    "\n",
    "print(len(val_pos_neg))\n",
    "print(len(test_pos_neg))\n",
    "print(len(train_pos_neg))\n",
    "print(len(train_pos_neg)+len(test_pos_neg)+len(val_pos_neg))"
   ]
  },
  {
   "cell_type": "code",
   "execution_count": 11,
   "metadata": {},
   "outputs": [
    {
     "name": "stdout",
     "output_type": "stream",
     "text": [
      "   Unnamed: 0.1  Unnamed: 0                               cdr     vgene  \\\n",
      "0        146240      146240  GYTFTSYW|IDPSDSYT|ARYYYGSSYYAMDY  IGHV1-69   \n",
      "1        108043      108043     GFTFSSYS|ISPSGGIT|AKDDAWGRYKH  IGHV3-23   \n",
      "2        324428      324428   GGSVSRGGYY|TSYSEGT|AAADWESFYFDS  IGHV4-31   \n",
      "3        233988      233988      RFTFSSYG|IRYDGSNK|ARGPSGYHNT  IGHV3-30   \n",
      "4        248755      248755  GFTFSSSA|ISASGGST|AKDERWESPHYLDS  IGHV3-23   \n",
      "\n",
      "   count  label  \n",
      "0     13      1  \n",
      "1     14      1  \n",
      "2     10      1  \n",
      "3     11      1  \n",
      "4     11      1  \n"
     ]
    }
   ],
   "source": [
    "print(test_pos_neg.head())\n",
    "test_pos_neg[['cdr','vgene','label']].to_csv('public_cdrh3.csv',index=False)"
   ]
  },
  {
   "cell_type": "code",
   "execution_count": 4,
   "metadata": {},
   "outputs": [
    {
     "name": "stdout",
     "output_type": "stream",
     "text": [
      "               cdr3     vgene  count  label\n",
      "0         AKGGDYFDY   IGHV3-7     10      1\n",
      "1        TRRTGTGFAY   IGHV6-6     12      1\n",
      "2         ASGYDFFAY  IGHV1-26     22      1\n",
      "3  ARDSLGAGTVGATSGY  IGHV4-39     15      1\n",
      "4    ARDLGYSYGHPFDY  IGHV3-33     20      1\n"
     ]
    }
   ],
   "source": [
    "print(test_pos_neg.head())\n",
    "test_pos_neg=test_pos_neg[['cdr3','vgene','label']].sample(1000)\n",
    "test_pos_neg.to_csv('public_cdrh3.csv',index=False)"
   ]
  },
  {
   "cell_type": "code",
   "execution_count": 6,
   "metadata": {},
   "outputs": [
    {
     "name": "stdout",
     "output_type": "stream",
     "text": [
      "172310\n",
      "   Unnamed: 0.1  Unnamed: 0         cdr3     vgene  count  label\n",
      "0             0           0    QAWDSSTVV   IGLV3-1    134    134\n",
      "1             1           1  QSYDSSLSGSV  IGLV1-40    128    128\n",
      "2             2           2   SSYTSSSTLV  IGLV2-14    124    124\n",
      "3             3           3  GTWDSSLSAGV  IGLV1-51    124    124\n",
      "4             4           4    QAWDSSTGV   IGLV3-1    123    123\n"
     ]
    }
   ],
   "source": [
    "import pandas as pd\n",
    "import numpy as np\n",
    "\n",
    "data =  pd.read_csv('p5_n1_cdr3l_df.csv')\n",
    "data['label'] = data['count']\n",
    "print(len(data))\n",
    "print(data.head())"
   ]
  },
  {
   "cell_type": "code",
   "execution_count": 7,
   "metadata": {},
   "outputs": [
    {
     "name": "stdout",
     "output_type": "stream",
     "text": [
      "39367\n",
      "132943\n",
      "7872\n",
      "7876\n",
      "156562\n",
      "172310\n"
     ]
    }
   ],
   "source": [
    "pos_data = data[data['count']>=5]\n",
    "print(len(pos_data))\n",
    "neg_data = data[data['count']<5]\n",
    "print(len(neg_data))\n",
    "np.random.seed(42)\n",
    "shuffled_indices = np.random.permutation(len(pos_data))\n",
    "\n",
    "train_size = int(0.8 * len(pos_data))\n",
    "val_size = int(0.1 * len(pos_data))\n",
    "test_size = len(pos_data) - train_size - val_size\n",
    "\n",
    "train_indices = shuffled_indices[:train_size]\n",
    "val_indices = shuffled_indices[train_size:train_size + val_size]\n",
    "test_indices = shuffled_indices[train_size + val_size:]\n",
    "\n",
    "train_pos = pos_data.iloc[train_indices].reset_index(drop=True)\n",
    "val_pos = pos_data.iloc[val_indices].reset_index(drop=True)\n",
    "test_pos = pos_data.iloc[test_indices].reset_index(drop=True)\n",
    "\n",
    "def sample_neg(pos,neg,n):\n",
    "    vgene_count = pos['vgene'].value_counts()\n",
    "    match_df = []\n",
    "    for vgene,count in vgene_count.items():\n",
    "        match_data = neg[neg['vgene']==vgene]\n",
    "        match_df.append(match_data.sample(n*count, random_state=42))\n",
    "    neg_match = pd.concat(match_df)\n",
    "    sampled_indices = neg_match.index\n",
    "    neg_drop = neg.drop(sampled_indices)\n",
    "    neg_match = neg_match.reset_index(drop=True)\n",
    "    pos_neg = pd.concat([pos,neg_match], ignore_index=True)\n",
    "    return neg_match,pos_neg,neg_drop\n",
    "\n",
    "val_neg_match,val_pos_neg,val_neg_drop = sample_neg(val_pos,neg_data,1)\n",
    "test_neg_match,test_pos_neg,test_neg_drop = sample_neg(test_pos,val_neg_drop,1)\n",
    "train_pos_neg = pd.concat([train_pos,test_neg_drop], ignore_index=True)\n",
    "\n",
    "print(len(val_pos_neg))\n",
    "print(len(test_pos_neg))\n",
    "print(len(train_pos_neg))\n",
    "print(len(train_pos_neg)+len(test_pos_neg)+len(val_pos_neg))"
   ]
  },
  {
   "cell_type": "code",
   "execution_count": 8,
   "metadata": {},
   "outputs": [],
   "source": [
    "test_pos_neg[['cdr3','vgene','label']].to_csv('public_cdr3l.csv',index=False)"
   ]
  }
 ],
 "metadata": {
  "language_info": {
   "name": "python"
  }
 },
 "nbformat": 4,
 "nbformat_minor": 2
}
